{
 "cells": [
  {
   "cell_type": "code",
   "execution_count": null,
   "id": "30954332",
   "metadata": {},
   "outputs": [],
   "source": [
    "import datetime\n",
    "date='2021-05-21 11:22:03'\n",
    "datem=datetime.datetime.strptime(date, '%Y-%m-%d %H:%M:%S')\n",
    "print(datem.day)"
   ]
  }
 ],
 "metadata": {
  "kernelspec": {
   "display_name": "Python 3 (ipykernel)",
   "language": "python",
   "name": "python3"
  },
  "language_info": {
   "codemirror_mode": {
    "name": "ipython",
    "version": 3
   },
   "file_extension": ".py",
   "mimetype": "text/x-python",
   "name": "python",
   "nbconvert_exporter": "python",
   "pygments_lexer": "ipython3",
   "version": "3.9.7"
  }
 },
 "nbformat": 4,
 "nbformat_minor": 5
}
