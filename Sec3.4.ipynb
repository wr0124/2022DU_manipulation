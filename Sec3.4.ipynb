{
 "cells": [
  {
   "cell_type": "markdown",
   "id": "898b3309",
   "metadata": {},
   "source": [
    "<h1 style=\"font-size:3rem;color:Black;\">  Section 3.4 Obtention de résultats préliminaires  </h1>"
   ]
  },
  {
   "cell_type": "markdown",
   "id": "1ac4bf0e",
   "metadata": {},
   "source": [
    "## 1.Recodez la langue d’écriture de la thèse en utilisant quatre niveaux (levels en anglais) : Anglais, Français, Bilingue (enfr et fren), et Autres."
   ]
  },
  {
   "cell_type": "code",
   "execution_count": 1,
   "id": "bc7236d2",
   "metadata": {},
   "outputs": [
    {
     "name": "stdout",
     "output_type": "stream",
     "text": [
      "<class 'pandas.core.frame.DataFrame'>\n",
      "RangeIndex: 447644 entries, 0 to 447643\n",
      "Data columns (total 18 columns):\n",
      " #   Column                                    Non-Null Count   Dtype  \n",
      "---  ------                                    --------------   -----  \n",
      " 0   Auteur                                    447644 non-null  object \n",
      " 1   Identifiant auteur                        317655 non-null  object \n",
      " 2   Titre                                     447635 non-null  object \n",
      " 3   Directeur de these                        447629 non-null  object \n",
      " 4   Directeur de these (nom prenom)           447629 non-null  object \n",
      " 5   Identifiant directeur                     447644 non-null  object \n",
      " 6   Etablissement de soutenance               447640 non-null  object \n",
      " 7   Identifiant etablissement                 430559 non-null  object \n",
      " 8   Discipline                                447639 non-null  object \n",
      " 9   Statut                                    447644 non-null  object \n",
      " 10  Date de premiere inscription en doctorat  63976 non-null   object \n",
      " 11  Date de soutenance                        390898 non-null  object \n",
      " 12  Year                                      390898 non-null  float64\n",
      " 13  Langue de la these                        383879 non-null  object \n",
      " 14  Identifiant de la these                   447644 non-null  object \n",
      " 15  Accessible en ligne                       447644 non-null  object \n",
      " 16  Publication dans theses.fr                447644 non-null  object \n",
      " 17  Mise a jour dans theses.fr                447467 non-null  object \n",
      "dtypes: float64(1), object(17)\n",
      "memory usage: 61.5+ MB\n"
     ]
    }
   ],
   "source": [
    "import pandas as pd\n",
    "import numpy as np\n",
    "import datetime\n",
    "data=pd.read_csv('PhD_v2.csv', on_bad_lines='skip',low_memory=False)\n",
    "data.info()\n"
   ]
  },
  {
   "cell_type": "code",
   "execution_count": 2,
   "id": "19854705",
   "metadata": {},
   "outputs": [
    {
     "name": "stdout",
     "output_type": "stream",
     "text": [
      "il y a totalle 206 langue ecrite different \n",
      "[nan 'fr' 'en' 'ro' 'es' 'de' 'FR' 'zh' 'bs' 'it' 'co' 'fren' 'enfr'\n",
      " 'enzh' 'pt' 'frensl' 'fres' 'zhen' 'esen' 'itfr' 'frel' 'cs' 'frpten'\n",
      " 'hu' 'enfrde' 'esenfr' 'frpl' 'elfr' 'frhu' 'frar' 'itfren' 'frit' 'frzh'\n",
      " 'enfrzh' 'frvi' 'frenes' 'ru' 'defr' 'pl' 'bg' 'frkm' 'kkenfr' 'frcs'\n",
      " 'ptfren' 'el' 'enfreu' 'pten' 'frpt' 'esfr' 'ptfr' 'rufr' 'br' 'cafr'\n",
      " 'sr' 'enru' 'ensl' 'frde' 'frja' 'frla' 'ar' 'ca' 'fraf' 'eu' 'enesfr'\n",
      " 'freu' 'rofr' 'frgrc' 'enpt' 'encsfr' 'he' 'enptfr' 'enit' 'fresen'\n",
      " 'enpl' 'sv' 'eufr' 'enfrpt' 'frbr' 'ukfren' 'frruen' 'arfr' 'hyfrru'\n",
      " 'csfrsk' 'frhe' 'frru' 'brfr' 'akfr' 'zhfr' 'frms' 'enfrpl' 'frmn'\n",
      " 'enfrit' 'envi' 'frro' 'frfy' 'frsl' 'enfres' 'frqu' 'as' 'frln' 'frenpt'\n",
      " 'abfr' 'uk' 'roen' 'plen' 'frenzh' 'frendees' 'enfrcs' 'itzh' 'cofr'\n",
      " 'frtch' 'eufres' 'ja' 'enbo' 'frsa' 'itfrhe' 'froc' 'frkmsa' 'hyfr'\n",
      " 'zhfrit' 'nl' 'nlen' 'csfr' 'enesfrca' 'enar' 'amfr' 'frtr' 'frsakm'\n",
      " 'enarfr' 'itlafr' 'frff' 'itfrla' 'sq' 'entr' 'deenfr' 'itla' 'enro'\n",
      " 'plfr' 'endefr' 'ptenfr' 'enes' 'frka' 'fafr' 'akes' 'frmg' 'elenfr'\n",
      " 'csenfr' 'sqfr' 'zhenfr' 'ee' 'bgenfr' 'frfr' 'enfrsk' 'encs' 'enfrro'\n",
      " 'fris' 'bgfr' 'frgl' 'frko' 'enhu' 'deenfrit' 'azfr' 'fritla' 'enth'\n",
      " 'frth' 'arenfrit' 'frfa' 'frty' 'eo' 'frid' 'frsv' 'aefr' 'csfrla'\n",
      " 'enfrhu' 'zhfrug' 'myfr' 'enfrja' 'deen' 'amarfr' 'aafr' 'frsi' 'enla'\n",
      " 'frlaptes' 'ares' 'arenfr' 'frnv' 'enitfr' 'frplen' 'ad' 'frund' 'enfrvi'\n",
      " 'ab' 'frhi' 'fritlaoc' 'am' 'enfrru' 'frukr' 'hy' 'enzhfr' 'enfrar' 'et'\n",
      " 'id' 'cafres' 'frruuk' 'fi' 'nlenfr']\n"
     ]
    }
   ],
   "source": [
    "langue=data['Langue de la these'].unique()\n",
    "data1=data.copy()\n",
    "print('il y a totalle '+ str(len(langue))+ ' langue ecrite different ')\n",
    "print(langue)\n"
   ]
  },
  {
   "cell_type": "code",
   "execution_count": 3,
   "id": "4a4c0407",
   "metadata": {},
   "outputs": [],
   "source": [
    "for row in range(len(data1['Langue de la these'])):\n",
    "    if data1.loc[row,'Langue de la these']=='en':\n",
    "        data1.loc[row,'Langue categori']=1\n",
    "    elif data1.loc[row,'Langue de la these']=='fr':\n",
    "        data1.loc[row,'Langue categori']=2\n",
    "    elif (data1.loc[row,'Langue de la these']=='enfr')|(data1.loc[row,'Langue de la these']=='fren'):\n",
    "        data1.loc[row,'Langue categori']=3\n",
    "    else :\n",
    "        data1.loc[row,'Langue categori']=4"
   ]
  },
  {
   "cell_type": "code",
   "execution_count": 4,
   "id": "6fcec5c7",
   "metadata": {},
   "outputs": [
    {
     "name": "stdout",
     "output_type": "stream",
     "text": [
      "0         4.0\n",
      "1         4.0\n",
      "2         2.0\n",
      "3         4.0\n",
      "4         4.0\n",
      "         ... \n",
      "447639    4.0\n",
      "447640    4.0\n",
      "447641    4.0\n",
      "447642    2.0\n",
      "447643    2.0\n",
      "Name: Langue categori, Length: 447644, dtype: float64\n"
     ]
    }
   ],
   "source": [
    "print( data1['Langue categori'])"
   ]
  },
  {
   "cell_type": "markdown",
   "id": "756d05a9",
   "metadata": {},
   "source": [
    "## 2.Montrez avec le graphique approprié et sur une période pertinente comment le choix de la langue d’écriture a évolué au fil des ans."
   ]
  },
  {
   "cell_type": "code",
   "execution_count": 6,
   "id": "2ee09cad",
   "metadata": {},
   "outputs": [],
   "source": [
    "En_evo=data1.groupby(['Year']).apply(lambda x: x[x['Langue categori']==1]['Year'].count())\n",
    "Fr_evo=data1.groupby(['Year']).apply(lambda x: x[x['Langue categori']==2]['Year'].count())\n",
    "Bi_evo=data1.groupby(['Year']).apply(lambda x: x[x['Langue categori']==3]['Year'].count())\n",
    "Autre_evo=data1.groupby(['Year']).apply(lambda x: x[x['Langue categori']==4]['Year'].count())"
   ]
  },
  {
   "cell_type": "code",
   "execution_count": 7,
   "id": "83694b09",
   "metadata": {},
   "outputs": [
    {
     "data": {
      "image/png": "[encoded data removed]",
      "text/plain": [
       "<Figure size 432x288 with 1 Axes>"
      ]
     },
     "metadata": {
      "needs_background": "light"
     },
     "output_type": "display_data"
    }
   ],
   "source": [
    "import numpy as np\n",
    "import matplotlib.pyplot as plt \n",
    "fig,ax=plt.subplots()\n",
    "plt.plot(En_evo,'o-',label = \"en\")\n",
    "plt.plot(Fr_evo,'ro-',label = \"fr\")\n",
    "plt.plot(Bi_evo,'go-',label = \"bilingual\")\n",
    "plt.plot(Autre_evo,'bo-',label = \"other\")\n",
    "plt.xlabel('Year')\n",
    "plt.ylabel('Number of thesis')\n",
    "plt.legend()\n",
    "plt.show()\n",
    "fig.savefig('Evo_Language.png', dpi=200) "
   ]
  },
  {
   "cell_type": "code",
   "execution_count": 8,
   "id": "1f9bcfee",
   "metadata": {},
   "outputs": [
    {
     "name": "stdout",
     "output_type": "stream",
     "text": [
      "24263\n",
      "['Driot prive'\n",
      " 'Mecanique des solides, des materiaux, des structures et des surfaces'\n",
      " 'Medecine' 'Science politique' 'Geographie' 'Droit public'\n",
      " 'Etudes de genre' 'Droit prive'\n",
      " 'Philosophie (metaphysique, epistemologie, esthetique)'\n",
      " 'Histoire du droit et des institutions' 'Etudes anglophones'\n",
      " 'Psychologie' 'Anthropologie' 'Histoire' 'Arts et langages'\n",
      " 'Droit penal et sciences criminelles' 'Sciences economiques'\n",
      " 'Etudes hispaniques' \"Sciences de l'information et de la communication\"\n",
      " 'Sciences de gestion' 'Droit international' 'Sciences du langage'\n",
      " 'Geographie physique' 'Histoire moderne et contemporaine' 'Informatique'\n",
      " 'Mathematiques et informatique appliquees aux sciences sociales (miass)'\n",
      " 'Histoire et archeologie medievales' 'Etudes occitanes'\n",
      " 'Histoire des religions' 'Litteratures francaise et francophone'\n",
      " 'Etudes hispano-americaines' 'Histoire des sciences et des techniques'\n",
      " 'Etudes iberiques et latino americaines' \"Histoire de l'art\" 'Sociologie'\n",
      " 'Etudes germaniques' 'Histoire ancienne'\n",
      " 'Litteratures et civilisations comparees' 'Psychanalyse'\n",
      " \"Sciences de l'education\" 'Musique et musicologie' 'Archeologie'\n",
      " 'Ethnologie' 'Etudes regionales (celtiques, corses, ...)'\n",
      " 'Theologie catholique' 'Arts du spectacle'\n",
      " 'Philosophie politique et juridique' \"Sciences de l'art et esthetique\"\n",
      " 'Etudes latines et neo-latines' 'Sciences cognitives']\n"
     ]
    }
   ],
   "source": [
    "print(len (data1['Discipline'].unique()))\n",
    "dis=data1['Discipline'].unique()\n",
    "print( dis[0:50] )"
   ]
  },
  {
   "cell_type": "code",
   "execution_count": 9,
   "id": "e9658b3d",
   "metadata": {},
   "outputs": [],
   "source": [
    "Evo_En=pd.DataFrame()\n",
    "Evo_En=data1.loc[data1['Langue categori']==1,['Discipline','Year']]\n",
    "Evo_Fr=pd.DataFrame()\n",
    "Evo_Fr=data1.loc[data1['Langue categori']==2,['Discipline','Year']]\n",
    "Evo_Bi=pd.DataFrame()\n",
    "Evo_Bi=data1.loc[data1['Langue categori']==3,['Discipline','Year']]\n",
    "Evo_Oth=pd.DataFrame()\n",
    "Evo_Oth=data1.loc[data1['Langue categori']==4,['Discipline','Year']]"
   ]
  },
  {
   "cell_type": "code",
   "execution_count": null,
   "id": "1ee3006f",
   "metadata": {},
   "outputs": [],
   "source": []
  }
 ],
 "metadata": {
  "kernelspec": {
   "display_name": "Python 3 (ipykernel)",
   "language": "python",
   "name": "python3"
  },
  "language_info": {
   "codemirror_mode": {
    "name": "ipython",
    "version": 3
   },
   "file_extension": ".py",
   "mimetype": "text/x-python",
   "name": "python",
   "nbconvert_exporter": "python",
   "pygments_lexer": "ipython3",
   "version": "3.9.7"
  }
 },
 "nbformat": 4,
 "nbformat_minor": 5
}
