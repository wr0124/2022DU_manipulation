{
 "cells": [
  {
   "cell_type": "markdown",
   "id": "7f44afb3",
   "metadata": {},
   "source": [
    "## Web scraping"
   ]
  },
  {
   "cell_type": "markdown",
   "id": "fd4dd4ad",
   "metadata": {},
   "source": [
    "### 1. Dans une dernière partie de ce travail, nous vous proposons de scraper le site theses.fr pour produire de novo la base de données que vous avez mobilisées pendant l’UE"
   ]
  },
  {
   "cell_type": "code",
   "execution_count": 1,
   "id": "fbc0405f",
   "metadata": {},
   "outputs": [],
   "source": [
    "from bs4 import BeautifulSoup\n",
    "import requests"
   ]
  },
  {
   "cell_type": "code",
   "execution_count": 2,
   "id": "536858c4",
   "metadata": {},
   "outputs": [],
   "source": [
    "\n",
    "Title=[]\n",
    "Establiment=[]\n",
    "Author=[]\n",
    "Supervisor=[]\n",
    "\n",
    "for i in  range(0,50,10):\n",
    "    url='http://www.theses.fr/fr/?q=&fq=dateSoutenance:[1965-01-01T23:59:59Z%2BTO%2B2022-12-31T23:59:59Z]&checkedfacets=&start='+str(i)+'&sort=none&status=&access=&prevision=&filtrepersonne=&zone1=titreRAs&val1=&op1=AND&zone2=auteurs&val2=&op2=AND&zone3=etabSoutenances&val3=&op3=AND&zone4=dateSoutenance&val4a=&val4b=&type='\n",
    "    result= requests.get(url)\n",
    "    doc=BeautifulSoup(result.text, \"html.parser\")\n",
    "    theses=doc.find_all('div',class_=\"informations\")\n",
    "    for thesis in theses:\n",
    "        title = thesis.find('h2').a.text\n",
    "        establiment=thesis.find('p').get_text(strip=True).split('-')[1]\n",
    "        infor =thesis.find('p').text.split()\n",
    "        author_temp= infor[1: infor.index(\"sous\")] \n",
    "        author= ' '.join(author_temp)\n",
    "        supervisor_temp= infor[infor.index(\"de\")+1:infor.index(\"-\")]\n",
    "        supervisor= ' '.join(supervisor_temp)\n",
    "        Title.append(str(title ))\n",
    "        Establiment.append(establiment )\n",
    "        Author.append(author )\n",
    "        Supervisor.append(supervisor )\n"
   ]
  },
  {
   "cell_type": "code",
   "execution_count": 3,
   "id": "6b9ca3b1",
   "metadata": {},
   "outputs": [
    {
     "data": {
      "text/html": [
       "<div>\n",
       "<style scoped>\n",
       "    .dataframe tbody tr th:only-of-type {\n",
       "        vertical-align: middle;\n",
       "    }\n",
       "\n",
       "    .dataframe tbody tr th {\n",
       "        vertical-align: top;\n",
       "    }\n",
       "\n",
       "    .dataframe thead th {\n",
       "        text-align: right;\n",
       "    }\n",
       "</style>\n",
       "<table border=\"1\" class=\"dataframe\">\n",
       "  <thead>\n",
       "    <tr style=\"text-align: right;\">\n",
       "      <th></th>\n",
       "      <th>Title</th>\n",
       "      <th>author</th>\n",
       "      <th>Supervisor</th>\n",
       "      <th>Establiment</th>\n",
       "    </tr>\n",
       "  </thead>\n",
       "  <tbody>\n",
       "    <tr>\n",
       "      <th>0</th>\n",
       "      <td>Evaluation ex ante de systemes de culture inno...</td>\n",
       "      <td>Jean-Marc Blazy</td>\n",
       "      <td>Jacques Wery</td>\n",
       "      <td>Marc Blazysous la direction deJacques Wery</td>\n",
       "    </tr>\n",
       "    <tr>\n",
       "      <th>1</th>\n",
       "      <td>Analyse conformationnelle des diastéréoisomère...</td>\n",
       "      <td>Philippe Chavatte</td>\n",
       "      <td>Gérard Vergoten</td>\n",
       "      <td>Lille 1</td>\n",
       "    </tr>\n",
       "    <tr>\n",
       "      <th>2</th>\n",
       "      <td>Identification des génes impliqués dans la sig...</td>\n",
       "      <td>Céline Duc</td>\n",
       "      <td>Jean-François Briat</td>\n",
       "      <td>François Briat</td>\n",
       "    </tr>\n",
       "    <tr>\n",
       "      <th>3</th>\n",
       "      <td>Recueil et formation de procédés experts pour ...</td>\n",
       "      <td>Bertrand Léger</td>\n",
       "      <td>Véronique Bellon et de Michel Clerjeau.</td>\n",
       "      <td>Montpellier SupAgro</td>\n",
       "    </tr>\n",
       "    <tr>\n",
       "      <th>4</th>\n",
       "      <td>Une nouvelle famille de polyoxothiometallates ...</td>\n",
       "      <td>Bernadette Salignac</td>\n",
       "      <td>Emmanuel Cadot et de Francis Secheresse.</td>\n",
       "      <td>Versailles</td>\n",
       "    </tr>\n",
       "  </tbody>\n",
       "</table>\n",
       "</div>"
      ],
      "text/plain": [
       "                                               Title               author  \\\n",
       "0  Evaluation ex ante de systemes de culture inno...      Jean-Marc Blazy   \n",
       "1  Analyse conformationnelle des diastéréoisomère...    Philippe Chavatte   \n",
       "2  Identification des génes impliqués dans la sig...           Céline Duc   \n",
       "3  Recueil et formation de procédés experts pour ...       Bertrand Léger   \n",
       "4  Une nouvelle famille de polyoxothiometallates ...  Bernadette Salignac   \n",
       "\n",
       "                                 Supervisor  \\\n",
       "0                              Jacques Wery   \n",
       "1                           Gérard Vergoten   \n",
       "2                       Jean-François Briat   \n",
       "3   Véronique Bellon et de Michel Clerjeau.   \n",
       "4  Emmanuel Cadot et de Francis Secheresse.   \n",
       "\n",
       "                                  Establiment  \n",
       "0  Marc Blazysous la direction deJacques Wery  \n",
       "1                                     Lille 1  \n",
       "2                              François Briat  \n",
       "3                         Montpellier SupAgro  \n",
       "4                                  Versailles  "
      ]
     },
     "execution_count": 3,
     "metadata": {},
     "output_type": "execute_result"
    }
   ],
   "source": [
    "import pandas as pd \n",
    " \n",
    "d={'Title': Title , 'author': Author , 'Supervisor': Supervisor , 'Establiment': Establiment }\n",
    "df = pd.DataFrame(d)\n",
    "\n",
    "df.head()"
   ]
  },
  {
   "cell_type": "code",
   "execution_count": 157,
   "id": "caeb0580",
   "metadata": {},
   "outputs": [],
   "source": [
    "df.to_csv('Julie_scrabing.csv', sep='\\t', encoding='utf-8', index=False)\n"
   ]
  },
  {
   "cell_type": "markdown",
   "id": "075f23a6",
   "metadata": {},
   "source": [
    "###  2. trouvez une méthode pour extraire les PDFs des manuscrits correspondants lorsque c’est possible.\n",
    " "
   ]
  },
  {
   "cell_type": "code",
   "execution_count": 5,
   "id": "09faa770",
   "metadata": {},
   "outputs": [
    {
     "name": "stdout",
     "output_type": "stream",
     "text": [
      "['/1997LIL10030/document']\n",
      "['/1997LIL10030/document']\n",
      "['/1997LIL10030/document', '/1989OBSP0003/document']\n",
      "['/1997LIL10030/document', '/1989OBSP0003/document', '/1995OBSP0061/document']\n",
      "['/1997LIL10030/document', '/1989OBSP0003/document', '/1995OBSP0061/document', '/2018TROY0024/document']\n"
     ]
    }
   ],
   "source": [
    "import requests\n",
    "from bs4 import BeautifulSoup\n",
    "urls=[]\n",
    "for i in  range(0,50,10):\n",
    "    url='http://www.theses.fr/?q=&fq=dateSoutenance:[1965-01-01T23:59:59Z%2BTO%2B2022-12-31T23:59:59Z]&checkedfacets=&start='+str(i)+'&sort=none&status=&access=&prevision=&filtrepersonne=&zone1=titreRAs&val1=&op1=AND&zone2=auteurs&val2=&op2=AND&zone3=etabSoutenances&val3=&op3=AND&zone4=dateSoutenance&val4a=&val4b=&type='\n",
    "    result=requests.get(url)\n",
    "    src=result.content\n",
    "    soup=BeautifulSoup(src,'lxml')\n",
    "    \n",
    "    for h5_tag in soup.find_all(class_=\"arrondi-10x\"):\n",
    "        a_tag=h5_tag.find('a')\n",
    "        if a_tag is not None and 'href'in a_tag.attrs:\n",
    "            urls.append(a_tag.attrs['href'])\n",
    "    \n",
    "    print(urls)\n"
   ]
  },
  {
   "cell_type": "code",
   "execution_count": 7,
   "id": "5104579e",
   "metadata": {},
   "outputs": [],
   "source": [
    "textfile = open(\"PDF_file.csv\", \"w\")\n",
    "for element in urls:\n",
    "    textfile.write(element + \"\\n\")\n",
    "textfile.close()"
   ]
  },
  {
   "cell_type": "code",
   "execution_count": null,
   "id": "84208525",
   "metadata": {},
   "outputs": [],
   "source": []
  },
  {
   "cell_type": "code",
   "execution_count": null,
   "id": "0e116be9",
   "metadata": {},
   "outputs": [],
   "source": []
  },
  {
   "cell_type": "code",
   "execution_count": null,
   "id": "89dd6a08",
   "metadata": {},
   "outputs": [],
   "source": []
  }
 ],
 "metadata": {
  "kernelspec": {
   "display_name": "Python 3 (ipykernel)",
   "language": "python",
   "name": "python3"
  },
  "language_info": {
   "codemirror_mode": {
    "name": "ipython",
    "version": 3
   },
   "file_extension": ".py",
   "mimetype": "text/x-python",
   "name": "python",
   "nbconvert_exporter": "python",
   "pygments_lexer": "ipython3",
   "version": "3.9.7"
  }
 },
 "nbformat": 4,
 "nbformat_minor": 5
}
