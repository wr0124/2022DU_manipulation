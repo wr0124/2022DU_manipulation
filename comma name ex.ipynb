{
 "cells": [
  {
   "cell_type": "code",
   "execution_count": 18,
   "id": "d69623a9",
   "metadata": {},
   "outputs": [
    {
     "name": "stdout",
     "output_type": "stream",
     "text": [
      "                           col\n",
      "0  abc,def,1abc,1def,1abc,0def\n",
      "1               1abc,1def,1ghi\n",
      "<class 'str'>\n",
      "27\n",
      "==============================\n",
      "['abc', 'def', '1abc', '1def', '1abc', '0def']\n",
      "<class 'list'>\n",
      "6\n",
      "<class 'str'>\n",
      "['a', 'b', 'c']\n"
     ]
    }
   ],
   "source": [
    "import pandas as pd\n",
    "\n",
    "df = pd.DataFrame({'col':['abc,def,1abc,1def,1abc,0def','1abc,1def,1ghi']})\n",
    "\n",
    "print (df)\n",
    "print (type(df.loc[0, 'col']))\n",
    "print (len(df.loc[0, 'col']))\n",
    "\n",
    "\n",
    "print('==============================')\n",
    "df['col'] = df['col'].str.split(',')\n",
    "print (df.loc[0, 'col'])\n",
    "print (type(df.loc[0, 'col']))\n",
    "print (len(df.loc[0, 'col']))\n",
    "\n",
    "l=df.loc[0, 'col']\n",
    "from collections import Counter    \n",
    "Counter(l)\n",
    " \n",
    "    \n",
    "x = [[\"a\",\"b\"], [\"c\"]]\n",
    "print(type(x[0][1]))\n",
    "result = sum(x, [])\n",
    "print(result)"
   ]
  },
  {
   "cell_type": "code",
   "execution_count": null,
   "id": "1295b7c1",
   "metadata": {},
   "outputs": [],
   "source": []
  }
 ],
 "metadata": {
  "kernelspec": {
   "display_name": "Python 3 (ipykernel)",
   "language": "python",
   "name": "python3"
  },
  "language_info": {
   "codemirror_mode": {
    "name": "ipython",
    "version": 3
   },
   "file_extension": ".py",
   "mimetype": "text/x-python",
   "name": "python",
   "nbconvert_exporter": "python",
   "pygments_lexer": "ipython3",
   "version": "3.9.7"
  }
 },
 "nbformat": 4,
 "nbformat_minor": 5
}
