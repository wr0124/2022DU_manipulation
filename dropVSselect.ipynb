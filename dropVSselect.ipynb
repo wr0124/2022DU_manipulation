{
 "cells": [
  {
   "cell_type": "code",
   "execution_count": 1,
   "id": "8d2cebf6",
   "metadata": {},
   "outputs": [
    {
     "name": "stdout",
     "output_type": "stream",
     "text": [
      "<class 'pandas.core.frame.DataFrame'>\n",
      "RangeIndex: 447644 entries, 0 to 447643\n",
      "Data columns (total 18 columns):\n",
      " #   Column                                    Non-Null Count   Dtype  \n",
      "---  ------                                    --------------   -----  \n",
      " 0   Auteur                                    447644 non-null  object \n",
      " 1   Identifiant auteur                        317655 non-null  object \n",
      " 2   Titre                                     447635 non-null  object \n",
      " 3   Directeur de these                        447629 non-null  object \n",
      " 4   Directeur de these (nom prenom)           447629 non-null  object \n",
      " 5   Identifiant directeur                     447644 non-null  object \n",
      " 6   Etablissement de soutenance               447640 non-null  object \n",
      " 7   Identifiant etablissement                 430559 non-null  object \n",
      " 8   Discipline                                447639 non-null  object \n",
      " 9   Statut                                    447644 non-null  object \n",
      " 10  Date de premiere inscription en doctorat  63976 non-null   object \n",
      " 11  Date de soutenance                        390898 non-null  object \n",
      " 12  Year                                      390898 non-null  float64\n",
      " 13  Langue de la these                        383879 non-null  object \n",
      " 14  Identifiant de la these                   447644 non-null  object \n",
      " 15  Accessible en ligne                       447644 non-null  object \n",
      " 16  Publication dans theses.fr                447644 non-null  object \n",
      " 17  Mise a jour dans theses.fr                447467 non-null  object \n",
      "dtypes: float64(1), object(17)\n",
      "memory usage: 61.5+ MB\n"
     ]
    }
   ],
   "source": [
    "import pandas as pd\n",
    "import numpy as np\n",
    "import datetime\n",
    "data=pd.read_csv('PhD_v2.csv', on_bad_lines='skip',low_memory=False)\n",
    "data.info()\n",
    "\n"
   ]
  },
  {
   "cell_type": "code",
   "execution_count": null,
   "id": "6a997846",
   "metadata": {},
   "outputs": [],
   "source": [
    "data['Year'].isnull().sum()"
   ]
  },
  {
   "cell_type": "code",
   "execution_count": 26,
   "id": "87855b1f",
   "metadata": {},
   "outputs": [
    {
     "name": "stdout",
     "output_type": "stream",
     "text": [
      "===================   (379109, 18)  ============== \n",
      "there are totally  129093 different supervisors during 1984-2018\n",
      "==============(390898, 18)  ============\n",
      "===================  (389821, 18)==============\n",
      "================\n",
      "there are totally  134961 different supervisors during 1984-2018\n"
     ]
    }
   ],
   "source": [
    "import pandas as pd\n",
    "import numpy as np\n",
    "import datetime\n",
    "data=pd.read_csv('PhD_v2.csv', on_bad_lines='skip',low_memory=False)\n",
    "#data.info()\n",
    "\n",
    "##method1. Select rows under condition\n",
    "df_tempRowSelec=data.loc[(data['Year']<=2018) & (data['Year']>=1984)]\n",
    "print('===================   '+  str( df_tempRowSelec.shape )+  '  ============== ' )\n",
    "supervisor=df_tempRowSelec['Directeur de these (nom prenom)'].unique()\n",
    "print('there are totally  ' + str(len(supervisor)) + ' different supervisors during 1984-2018')\n",
    "\n",
    "\n",
    "##method2. by drop function\n",
    "df_temp=data.copy()\n",
    "df_temp_nonan=df_temp[~df_temp['Year'].isnull()]\n",
    "print( '=============='+ str(df_temp_nonan.shape) +'  ============')\n",
    "df=df_temp_nonan.drop(df_temp_nonan[ (df_temp_nonan['Year'] >2019) | (df_temp_nonan['Year'] < 1983)].index)\n",
    "print('===================  ' + str(df.shape)+ '==============')\n",
    "supervisor1=df['Directeur de these (nom prenom)'].unique()\n",
    "print('================')\n",
    "print('there are totally  ' + str(len(supervisor1)) + ' different supervisors during 1984-2018')"
   ]
  },
  {
   "cell_type": "code",
   "execution_count": null,
   "id": "079bb545",
   "metadata": {},
   "outputs": [],
   "source": []
  }
 ],
 "metadata": {
  "kernelspec": {
   "display_name": "Python 3 (ipykernel)",
   "language": "python",
   "name": "python3"
  },
  "language_info": {
   "codemirror_mode": {
    "name": "ipython",
    "version": 3
   },
   "file_extension": ".py",
   "mimetype": "text/x-python",
   "name": "python",
   "nbconvert_exporter": "python",
   "pygments_lexer": "ipython3",
   "version": "3.9.7"
  }
 },
 "nbformat": 4,
 "nbformat_minor": 5
}
